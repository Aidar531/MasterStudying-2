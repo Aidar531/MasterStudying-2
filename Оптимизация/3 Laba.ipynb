{
 "cells": [
  {
   "cell_type": "markdown",
   "metadata": {},
   "source": [
    "## 1 часть (зной/Пень)"
   ]
  },
  {
   "cell_type": "code",
   "execution_count": 1,
   "metadata": {},
   "outputs": [],
   "source": [
    "Data1 = \"абвгдеёжзийклмнопрстуфхцчшщъыьэюя\"\n",
    "Data2 = \"абвгдеёжзийклмнопрстуфхцчшщъыьэюяАБВГДЕЁЖЗИЙКЛМНОПРСТУФХЦЧШЩЪЫЬЭЮЯ\"\n",
    "FirstWord = \"зной\"\n",
    "SecondWord = \"Пень\""
   ]
  },
  {
   "cell_type": "code",
   "execution_count": 2,
   "metadata": {},
   "outputs": [],
   "source": [
    "import time\n",
    "import random"
   ]
  },
  {
   "cell_type": "markdown",
   "metadata": {},
   "source": [
    "Перебор по нахождению первого слова"
   ]
  },
  {
   "cell_type": "code",
   "execution_count": 19,
   "metadata": {},
   "outputs": [],
   "source": [
    "def Dummy(Word,Data):\n",
    "    result = \"\"\n",
    "    for j in Word:\n",
    "        for i in Data:\n",
    "            if i==j:\n",
    "                result = result + i;\n",
    "    return result\n",
    "def RandomSort(Word,Data):\n",
    "    result = \"\"\n",
    "    while result != Word:\n",
    "        if len(result) > 3:\n",
    "            result=\"\"\n",
    "        result = result + Data[random.randint(0,32)]\n",
    "    return result"
   ]
  },
  {
   "cell_type": "code",
   "execution_count": 4,
   "metadata": {},
   "outputs": [
    {
     "name": "stdout",
     "output_type": "stream",
     "text": [
      "Время выполнения программы =  4.4960198402404785  c\n",
      "зной\n"
     ]
    }
   ],
   "source": [
    "start=time.time()\n",
    "# result = Dummy(FirstWord,Data1)\n",
    "result = RandomSort(FirstWord,Data1)\n",
    "end = time.time()\n",
    "print(\"Время выполнения программы = \", end-start, \" c\")\n",
    "print(result)"
   ]
  },
  {
   "cell_type": "markdown",
   "metadata": {},
   "source": [
    "Перебор по нахождению второго слова"
   ]
  },
  {
   "cell_type": "code",
   "execution_count": 5,
   "metadata": {},
   "outputs": [
    {
     "name": "stdout",
     "output_type": "stream",
     "text": [
      "Время выполнения программы =  0.00037741661071777344  c\n",
      "Пень\n"
     ]
    }
   ],
   "source": [
    "\n",
    "start=time.time()\n",
    "result = Dummy(SecondWord,Data2)\n",
    "# result = RandomSort(SecondWord,Data2)\n",
    "end = time.time()\n",
    "print(\"Время выполнения программы = \", end-start, \" c\")\n",
    "print(result)"
   ]
  },
  {
   "cell_type": "markdown",
   "metadata": {},
   "source": [
    "## Геналгоритм"
   ]
  },
  {
   "cell_type": "markdown",
   "metadata": {},
   "source": [
    "### Класс особи"
   ]
  },
  {
   "cell_type": "code",
   "execution_count": 3,
   "metadata": {},
   "outputs": [],
   "source": [
    "class Unit():\n",
    "    \n",
    "    genom = \"\"\n",
    "    fitness = 0;\n",
    "    \n",
    "    def setGenom(self,genom):\n",
    "        self.genom = genom\n",
    "    \n",
    "    def getGenom(self):\n",
    "        return self.genom\n",
    "    \n",
    "    #Метод рождения особи\n",
    "    def bear(self,numberOfGens,geneticMaterial):\n",
    "        for i in range(0,numberOfGens):\n",
    "            self.genom+=(geneticMaterial[random.randint(0,len(geneticMaterial)-1)])\n",
    "    \n",
    "    def Fitness(self,Word):\n",
    "        count=0\n",
    "        self.fitness=0\n",
    "        for i in self.getGenom():\n",
    "            if i == Word[count]:\n",
    "                self.fitness+=1\n",
    "            count+=1\n",
    "        return self.fitness"
   ]
  },
  {
   "cell_type": "markdown",
   "metadata": {},
   "source": [
    "### Функции жизненного цикла особей"
   ]
  },
  {
   "cell_type": "code",
   "execution_count": 4,
   "metadata": {},
   "outputs": [],
   "source": [
    "import random\n",
    "\n",
    "# Мутация \n",
    "def Mutation(unit,geneticMaterial):\n",
    "    mutatuionRate = 3/len(unit.genom)# Вероятность мутации\n",
    "    for i in unit.getGenom():\n",
    "        newData = geneticMaterial.replace(i,\"\")\n",
    "        if random.random() < mutatuionRate:\n",
    "            unit.setGenom(unit.getGenom().replace(i,newData[random.randint(0,len(newData)-1)]))\n",
    "\n",
    "\n",
    "#Кроссинговер одноточечный\n",
    "def Coupling1(unit1,unit2):\n",
    "    srez = random.randint(1,len(unit1.getGenom())-1)\n",
    "    child1 = Unit()\n",
    "    child2 = Unit()\n",
    "    if random.random()>0:\n",
    "        child1.setGenom(unit1.getGenom()[0:srez] + unit2.getGenom()[srez:len(unit2.getGenom())])\n",
    "        child2.setGenom(unit2.getGenom()[0:srez] + unit1.getGenom()[srez:len(unit2.getGenom())])\n",
    "    else:\n",
    "        child1.setGenom(unit1.getGenom())\n",
    "        child2.setGenom(unit2.getGenom())\n",
    "    return child1, child2\n",
    "\n",
    "#Кроссинговер двухточечный\n",
    "def Coupling2(unit1,unit2):\n",
    "    srez1 = random.randint(1,len(unit1.getGenom())//2)\n",
    "    srez2 = random.randint(len(unit1.getGenom())//2,len(unit1.getGenom())-1)\n",
    "    child1 = Unit()\n",
    "    child2 = Unit()\n",
    "    child1.setGenom(unit1.getGenom()[0:srez1] + unit2.getGenom()[srez1:srez2]+unit1.getGenom()[srez2:len(unit1.getGenom())])\n",
    "    child2.setGenom(unit2.getGenom()[0:srez1] + unit1.getGenom()[srez1:srez2]+unit2.getGenom()[srez2:len(unit1.getGenom())])\n",
    "    return child1, child2\n",
    "\n",
    "# Метод для ранжирования популяции  \n",
    "def Ranking(Population,Word):\n",
    "    for i in Population[1:]:\n",
    "        ind = Population.index(i)\n",
    "        count = 1\n",
    "        for j in Population[:ind][::-1]:\n",
    "            ind = Population.index(i)\n",
    "            if i.Fitness(Word)>j.Fitness(Word):\n",
    "                Population[ind-count] = i\n",
    "                Population[ind] = j\n",
    "    return Population\n",
    "\n",
    "#Создание популяции\n",
    "def CreatePopulation(NumberOfUnits,Data,Word):\n",
    "    Population =[]\n",
    "    for i in range(1,NumberOfUnits+1):\n",
    "        unit = Unit()\n",
    "        unit.bear(len(Word),Data1)\n",
    "        Population.append(unit)\n",
    "    return Population\n",
    "\n",
    "#Селекция элитарная (усечением)\n",
    "def EliteSelection(Population, typeOfCoupling):\n",
    "    \n",
    "    elite = Population[:int(0.4*len(Population))]\n",
    "                            \n",
    "    while len(elite) != 0:\n",
    "            first = random.choice(elite)\n",
    "            elite.remove(first)\n",
    "            second = random.choice(elite)\n",
    "            elite.remove(second)\n",
    "            Population.remove(first)\n",
    "            Population.remove(second)\n",
    "            if typeOfCoupling == 1:\n",
    "                first,second = Coupling1(first,second)\n",
    "            elif typeOfCoupling == 2: \n",
    "                first,second = Coupling2(first,second)\n",
    "            Population.append(first)\n",
    "            Population.append(second)    \n",
    "    return Population\n",
    "\n",
    "def KillTheWeak(Population,weakNumber,Data,Word):\n",
    "    for i in range(0,weakNumber+1):\n",
    "        Population.pop(-weakNumber-1+i)\n",
    "        unit = Unit()\n",
    "        unit.bear(len(Word),Data)\n",
    "        Population.append(unit)\n",
    "    return Population\n",
    "\n",
    "#Селекция рулетка:\n",
    "def RouletteSelection(Population,Word):\n",
    "    midPopulation = Population\n",
    "    NewPopulation = []\n",
    "    NewPopulation.append(Population[0])\n",
    "    NewPopulation.append(Population[1])\n",
    "    cnt = 0\n",
    "    while cnt!=len(Population)-2:\n",
    "        print(cnt)\n",
    "        Couple = []\n",
    "        probability = []\n",
    "        for i in Population:\n",
    "            probability.append(i.Fitness(Word))\n",
    "        summa=0\n",
    "        print(probability)\n",
    "        for i in probability:\n",
    "            summa+=i\n",
    "        d = random.random()*summa\n",
    "        count = 0;\n",
    "        for i in range(0,len(probability)):\n",
    "            count+=probability[i]\n",
    "            if count > d:\n",
    "                if len(Couple)>0:\n",
    "                    Couple.append(midPopulation[i-1])\n",
    "                else:\n",
    "                    Couple.append(Population[i])\n",
    "                    midPopulation.pop(i)\n",
    "                    for i in midPopulation:\n",
    "                        print(i.getGenom(),i.Fitness(Word))\n",
    "                    print(\"-----------------------\")\n",
    "#                 if not (Population[probability.index(i)] in Couple):\n",
    "#                     Couple.append(Population[probability.index(i)])\n",
    "        \n",
    "        if len(Couple) == 2:\n",
    "            midPopulation = Population\n",
    "            first,second = Coupling2(Couple[0],Couple[1])\n",
    "            NewPopulation.append(first)\n",
    "            NewPopulation.append(second)\n",
    "            Couple =[]\n",
    "            cnt+=2\n",
    "            \n",
    "    return NewPopulation\n",
    "            "
   ]
  },
  {
   "cell_type": "code",
   "execution_count": 82,
   "metadata": {},
   "outputs": [],
   "source": [
    "import time\n",
    "#Начало жизни\n",
    "def Life(Word,Data,mutationStart,typeOfCoupling,isKill):    \n",
    "    start = time.time()\n",
    "    stop = False\n",
    "    Population = CreatePopulation(10,Data,Word)\n",
    "    Population = Ranking(Population,Word)\n",
    "    count = 0\n",
    "    while not stop:\n",
    "        \n",
    "        for i in range(mutationStart,len(Population)):\n",
    "            Mutation(Population[i],Data) \n",
    "            \n",
    "        Population = EliteSelection(Population,typeOfCoupling)\n",
    "#         Population = RouletteSelection(Population,Word)\n",
    "        \n",
    "        Population = Ranking(Population,Word) \n",
    "        \n",
    "        if isKill:\n",
    "            Population = KillTheWeak(Population,4,Data,Word)\n",
    "        \n",
    "#         for i in Population:\n",
    "#             print(i.getGenom(),i.Fitness(Word))\n",
    "#         print(\"-----------------------\")\n",
    "        \n",
    "        count+=1\n",
    "    \n",
    "        if Population[0].Fitness(Word) == len(Word):\n",
    "            end = time.time()\n",
    "            stop = True\n",
    "\n",
    "#     print(\"Количество поколений\", count)\n",
    "#     print(\"Время выполнения программы = \", end-start, \" c\") \n",
    "#     print(\"Угаданное слово - \", Population[0].getGenom())\n",
    "#     for i in Population:\n",
    "#         print(i.getGenom(), i.Fitness(Word))\n",
    "#     print(\"-----------------------\")\n",
    "    \n",
    "#     return Population[0].getGenom()     \n",
    "    return end-start"
   ]
  },
  {
   "cell_type": "markdown",
   "metadata": {},
   "source": [
    "# 20 проходов алгоритма первое слово"
   ]
  },
  {
   "cell_type": "code",
   "execution_count": 94,
   "metadata": {},
   "outputs": [
    {
     "data": {
      "image/png": "[encoded data removed]",
      "text/plain": [
       "<Figure size 432x288 with 1 Axes>"
      ]
     },
     "metadata": {
      "needs_background": "light"
     },
     "output_type": "display_data"
    }
   ],
   "source": [
    "import matplotlib.pyplot as plt\n",
    "%matplotlib inline\n",
    "timeOfCalculation1 = []\n",
    "timeOfCalculation2 = []\n",
    "x = []\n",
    "for i in range (0,20):\n",
    "    timeOfCalculation1.append(Life(FirstWord,Data1,5,2,True)) ## Весрия с двухточечным кроссинговером - синим цветом\n",
    "    x.append(i)\n",
    "    \n",
    "for i in range (0,20):\n",
    "    timeOfCalculation2.append(Life(FirstWord,Data1,5,1,True)) ## Весрия с одноточечным кроссинговером - рыжим\n",
    "\n",
    "plt.plot(x,timeOfCalculation1,x,timeOfCalculation2)\n",
    "plt.xlabel(\"итерация\") # ось абсцисс\n",
    "plt.ylabel(\"время выполнения\") # ось ординат\n",
    "plt.grid()\n",
    "\n",
    "    "
   ]
  },
  {
   "cell_type": "markdown",
   "metadata": {},
   "source": [
    "# 20 проходов алгоритма второе слово"
   ]
  },
  {
   "cell_type": "code",
   "execution_count": 102,
   "metadata": {},
   "outputs": [
    {
     "data": {
      "image/png": "[encoded data removed]",
      "text/plain": [
       "<Figure size 432x288 with 1 Axes>"
      ]
     },
     "metadata": {
      "needs_background": "light"
     },
     "output_type": "display_data"
    }
   ],
   "source": [
    "import matplotlib.pyplot as plt\n",
    "%matplotlib inline\n",
    "timeOfCalculation1 = []\n",
    "timeOfCalculation2 = []\n",
    "x = []\n",
    "for i in range (0,20):\n",
    "    timeOfCalculation1.append(Life(SecondWord,Data2,5,2,True)) ## Весрия с двухточечным кроссинговером - синим цветом\n",
    "    x.append(i)\n",
    "    \n",
    "for i in range (0,20):\n",
    "    timeOfCalculation2.append(Life(SecondWord,Data2,5,1,True)) ## Весрия с одноточечным кроссинговером - рыжим\n",
    "\n",
    "plt.plot(x,timeOfCalculation1,x,timeOfCalculation2)\n",
    "plt.xlabel(\"итерация\") # ось абсцисс\n",
    "plt.ylabel(\"время выполнения\") # ось ординат\n",
    "plt.grid()\n",
    "\n",
    "    "
   ]
  },
  {
   "cell_type": "markdown",
   "metadata": {},
   "source": [
    "## 2 часть (Угадывание фразы)"
   ]
  },
  {
   "cell_type": "code",
   "execution_count": 29,
   "metadata": {},
   "outputs": [],
   "source": [
    "Data3 = \"абвгдеёжзийклмнопрстуфхцчшщъыьэюяАБВГДЕЁЖЗИЙКЛМНОПРСТУФХЦЧШЩЪЫЬЭЮЯ-.,!:;?«» —\"\n",
    "Phrase = \"— ...И на их опыте, — очень горьком, к слову сказать, — должны мы учиться. Казаков Первого и Четвертого полков, — хотя, впрочем, какие они теперь казаки? — в будущем придется вешать через одного, а то и просто свалить всех...\""
   ]
  },
  {
   "cell_type": "code",
   "execution_count": 107,
   "metadata": {},
   "outputs": [],
   "source": [
    "import time\n",
    "#Начало жизни\n",
    "def Life2(Word,Data,mutationStart,typeOfCoupling,isKill):    \n",
    "    start = time.time()\n",
    "    stop = False\n",
    "    Population = CreatePopulation(10,Data,Word)\n",
    "    Population = Ranking(Population,Word)\n",
    "    count = 0\n",
    "    while not stop:\n",
    "        \n",
    "        for i in range(mutationStart,len(Population)):\n",
    "            Mutation(Population[i],Data) \n",
    "            \n",
    "        Population = EliteSelection(Population,typeOfCoupling)\n",
    "#         Population = RouletteSelection(Population,Word)\n",
    "        \n",
    "        Population = Ranking(Population,Word) \n",
    "        \n",
    "        if isKill:\n",
    "            Population = KillTheWeak(Population,4,Data,Word)\n",
    "        \n",
    "#         for i in Population:\n",
    "#             print(i.getGenom(),i.Fitness(Word))\n",
    "#         print(\"-----------------------\")\n",
    "        \n",
    "        count+=1\n",
    "    \n",
    "        if Population[0].Fitness(Word) == len(Word):\n",
    "            end = time.time()\n",
    "            stop = True\n",
    "\n",
    "#     print(\"Количество поколений\", count)\n",
    "#     print(\"Время выполнения программы = \", end-start, \" c\") \n",
    "#     print(\"Угаданное слово - \", Population[0].getGenom())\n",
    "#     for i in Population:\n",
    "#         print(i.getGenom(), i.Fitness(Word))\n",
    "#     print(\"-----------------------\")\n",
    "    \n",
    "    return Population[0].getGenom()     "
   ]
  },
  {
   "cell_type": "code",
   "execution_count": 108,
   "metadata": {
    "scrolled": true
   },
   "outputs": [],
   "source": [
    "def BigWord():\n",
    "    OutputPhrase=\"\"\n",
    "    count=0\n",
    "    start = time.time()\n",
    "    #Разбивка слова по 5-кам\n",
    "    for i in range(0,len(Phrase)//5-1):\n",
    "    #     print(Phrase[5*count:5+5*count])\n",
    "        OutputPhrase += Life2(Phrase[5*count:5+5*count],Data3,5,1,True)\n",
    "        count+=1 \n",
    "    #Угадывание оставшейся части\n",
    "    OutputPhrase += Life2(Phrase[5*(len(Phrase)//5-1):],Data3,5,1,True)\n",
    "\n",
    "    end = time.time()\n",
    "    return end - start\n",
    "#     print(\"Время выполнения программы = \", end-start, \" c\") \n",
    "    # print(OutputPhrase)    "
   ]
  },
  {
   "cell_type": "markdown",
   "metadata": {},
   "source": [
    "# 20 проходов алгоритма фраза"
   ]
  },
  {
   "cell_type": "code",
   "execution_count": 110,
   "metadata": {},
   "outputs": [
    {
     "data": {
      "image/png": "[encoded data removed]",
      "text/plain": [
       "<Figure size 432x288 with 1 Axes>"
      ]
     },
     "metadata": {
      "needs_background": "light"
     },
     "output_type": "display_data"
    }
   ],
   "source": [
    "import matplotlib.pyplot as plt\n",
    "%matplotlib inline\n",
    "timeOfCalculation1 = []\n",
    "timeOfCalculation2 = []\n",
    "x = []\n",
    "for i in range (0,20):\n",
    "    timeOfCalculation1.append(BigWord()) \n",
    "    x.append(i)\n",
    "    \n",
    "plt.plot(x,timeOfCalculation1)\n",
    "plt.xlabel(\"итерация\") # ось абсцисс\n",
    "plt.ylabel(\"время выполнения\") # ось ординат\n",
    "plt.grid()\n",
    "\n",
    "    "
   ]
  },
  {
   "cell_type": "markdown",
   "metadata": {},
   "source": [
    "## 3 часть (Угадывание фразы c английскими символами)"
   ]
  },
  {
   "cell_type": "code",
   "execution_count": 40,
   "metadata": {},
   "outputs": [],
   "source": [
    "Data4 = \"абвгдеёжзийклмнопрстуфхцчшщъыьэюяАБВГДЕЁЖЗИЙКЛМНОПРСТУФХЦЧШЩЪЫЬЭЮЯabcdefghijklmnopqrstuvwxyzABCDEFGHIJKLMNOPQRSTUVWXYZ \"\n",
    "Phrase4 = \"Вчера Приобрёл пятый Iphone\""
   ]
  },
  {
   "cell_type": "code",
   "execution_count": 121,
   "metadata": {},
   "outputs": [],
   "source": [
    "def EnglishWord():\n",
    "    OutputPhrase=\"\"\n",
    "    count=0\n",
    "    start = time.time()\n",
    "    #Разбивка слова по 5-кам\n",
    "    for i in range(0,int(len(Phrase4)/5)-1):\n",
    "    #     print(Phrase4[5*count:5+5*count])\n",
    "        OutputPhrase += Life2(Phrase4[5*count:5+5*count],Data4,4,1,True)\n",
    "        count+=1 \n",
    "    #Угадывание оставшейся части\n",
    "    OutputPhrase += Life2(Phrase4[5*(int(len(Phrase4)/5)-1):],Data4,4,1,True)\n",
    "\n",
    "    end = time.time()\n",
    "    return end - start\n",
    "#     print(\"Время выполнения программы = \", end-start, \" c\") \n",
    "    # print(OutputPhrase)     "
   ]
  },
  {
   "cell_type": "markdown",
   "metadata": {},
   "source": [
    "# 20 проходов алгоритма фраза с английским словом"
   ]
  },
  {
   "cell_type": "code",
   "execution_count": 123,
   "metadata": {},
   "outputs": [
    {
     "data": {
      "image/png": "[encoded data removed]",
      "text/plain": [
       "<Figure size 432x288 with 1 Axes>"
      ]
     },
     "metadata": {
      "needs_background": "light"
     },
     "output_type": "display_data"
    }
   ],
   "source": [
    "import matplotlib.pyplot as plt\n",
    "%matplotlib inline\n",
    "timeOfCalculation1 = []\n",
    "timeOfCalculation2 = []\n",
    "x = []\n",
    "for i in range (0,20):\n",
    "    timeOfCalculation1.append(EnglishWord()) \n",
    "    x.append(i)\n",
    "    \n",
    "plt.plot(x,timeOfCalculation1)\n",
    "plt.xlabel(\"итерация\") # ось абсцисс\n",
    "plt.ylabel(\"время выполнения\") # ось ординат\n",
    "plt.grid()\n",
    "\n",
    "    "
   ]
  },
  {
   "cell_type": "code",
   "execution_count": null,
   "metadata": {},
   "outputs": [],
   "source": []
  }
 ],
 "metadata": {
  "kernelspec": {
   "display_name": "Python 3",
   "language": "python",
   "name": "python3"
  },
  "language_info": {
   "codemirror_mode": {
    "name": "ipython",
    "version": 3
   },
   "file_extension": ".py",
   "mimetype": "text/x-python",
   "name": "python",
   "nbconvert_exporter": "python",
   "pygments_lexer": "ipython3",
   "version": "3.7.6"
  }
 },
 "nbformat": 4,
 "nbformat_minor": 4
}
